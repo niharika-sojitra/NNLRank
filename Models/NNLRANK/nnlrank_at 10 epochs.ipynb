{
  "nbformat": 4,
  "nbformat_minor": 0,
  "metadata": {
    "colab": {
      "name": "Copy of NNLRANK_SE1.ipynb",
      "provenance": [],
      "collapsed_sections": []
    },
    "kernelspec": {
      "name": "python3",
      "display_name": "Python 3"
    },
    "language_info": {
      "name": "python"
    }
  },
  "cells": [
    {
      "cell_type": "code",
      "source": [
        "!pip install -q tensorflow-recommenders\n",
        "!pip install -q --upgrade tensorflow-datasets\n",
        "!pip install -q tensorflow-ranking\n",
        "\n",
        "import tensorflow_datasets as tfds\n",
        "import tensorflow_ranking as tfr\n",
        "import tensorflow_recommenders as tfrs"
      ],
      "metadata": {
        "id": "VuNEzgIfVCy5"
      },
      "execution_count": null,
      "outputs": []
    },
    {
      "cell_type": "code",
      "execution_count": 1,
      "metadata": {
        "id": "NwgbnqjMo8ju"
      },
      "outputs": [],
      "source": [
        "import pandas as pd\n",
        "import numpy as np\n",
        "import matplotlib.pyplot as plt\n",
        "from sklearn.linear_model import SGDRegressor\n",
        "from sklearn.metrics import mean_squared_error\n",
        "from sklearn.model_selection import train_test_split\n",
        "from sklearn import preprocessing\n",
        "from sklearn.preprocessing import MinMaxScaler\n",
        "import math\n",
        "import random\n",
        "from random import seed\n",
        "from random import randrange\n",
        "from csv import reader\n",
        "import tensorflow as tf\n",
        "from tensorflow import keras\n",
        "from keras.layers import Dense\n",
        "from keras.models import Sequential\n",
        "SGD = tf.keras.optimizers.SGD()\n",
        "from tensorflow.keras.optimizers import Adam,Nadam, SGD\n",
        "from tensorflow.keras.utils import to_categorical\n",
        "import sklearn.metrics\n",
        "from sklearn.metrics import classification_report\n",
        "#import tensorflow_recommenders as tfrs\n"
      ]
    },
    {
      "cell_type": "code",
      "source": [
        "from google.colab import drive\n",
        "drive.mount('/content/gdrive', force_remount=True)\n",
        "\n",
        "# Load the dataset\n",
        "df = pd.read_csv('gdrive/MyDrive/SE_Project_NNLRank/Successful_Failed_Onboarding.csv')\n",
        "#df = pd.read_csv('gdrive/MyDrive/SE Project Dataset/Successful_Failed_Onboarding.csv')\n",
        "'''for i in df.columns[df.isnull().any(axis=0)]:     #---Applying Only on variables with NaN values\n",
        "    df[i].fillna(df[i].mean(),inplace=True)'''\n",
        "#df.replace(0,np.nan, inplace = True)\n",
        "df = df.fillna(df.mean())\n",
        "df.head()\n",
        "#print(df)"
      ],
      "metadata": {
        "colab": {
          "base_uri": "https://localhost:8080/",
          "height": 315
        },
        "id": "HHSGNf3spc2x",
        "outputId": "eef71718-0fa5-4ef6-af95-5d582f4ae4e9"
      },
      "execution_count": 6,
      "outputs": [
        {
          "output_type": "stream",
          "name": "stdout",
          "text": [
            "Mounted at /content/gdrive\n"
          ]
        },
        {
          "output_type": "stream",
          "name": "stderr",
          "text": [
            "/usr/local/lib/python3.7/dist-packages/ipykernel_launcher.py:10: FutureWarning: Dropping of nuisance columns in DataFrame reductions (with 'numeric_only=None') is deprecated; in a future version this will raise TypeError.  Select only valid columns before calling the reduction.\n",
            "  # Remove the CWD from sys.path while we load stuff.\n"
          ]
        },
        {
          "output_type": "execute_result",
          "data": {
            "text/plain": [
              "   project_id  owner_id  user_id  Time_Create  Time_Meb0  Time_Meb1  \\\n",
              "0         202      1653     1662          119          0     649796   \n",
              "1         392      2997   138128           60          0    3316225   \n",
              "2         392      2997  2028259           60          0    3316225   \n",
              "3         540      3797    36361          120          0    2355387   \n",
              "4         544      4233     4334          119          0     369290   \n",
              "\n",
              "   Time_Cmt0  Time_Cmt1 project_language  Tech_lang  Project_Member  \\\n",
              "0      20239    2896337       JavaScript          4             195   \n",
              "1         65    2097657       JavaScript          2             122   \n",
              "2         65    2097657       JavaScript          2             122   \n",
              "3       6140    2095492       JavaScript          3              10   \n",
              "4    1244705    2106930       JavaScript          7              16   \n",
              "\n",
              "   Project_Commit_Count  Project_Size  Open_Issues_Count   Forks  Watchers  \\\n",
              "0                 52227      999796.0              683.0   683.0    2331.0   \n",
              "1                 17900       92974.0             2791.0  2791.0    8180.0   \n",
              "2                 17900       92974.0             2791.0  2791.0    8180.0   \n",
              "3                 15531       74341.0              429.0   429.0    4272.0   \n",
              "4                  6625       41122.0              111.0   111.0     308.0   \n",
              "\n",
              "   Network_Count  Stargazers_Count  has_star_developer  Successful_Onboarding  \n",
              "0         2092.0             226.0                   1                      1  \n",
              "1        33671.0            1602.0                   1                      0  \n",
              "2        33671.0            1602.0                   1                      1  \n",
              "3        22163.0             903.0                   1                      1  \n",
              "4         2152.0              63.0                   1                      1  "
            ],
            "text/html": [
              "\n",
              "  <div id=\"df-5cd5f892-e203-4f6a-90c8-52d9b569bf43\">\n",
              "    <div class=\"colab-df-container\">\n",
              "      <div>\n",
              "<style scoped>\n",
              "    .dataframe tbody tr th:only-of-type {\n",
              "        vertical-align: middle;\n",
              "    }\n",
              "\n",
              "    .dataframe tbody tr th {\n",
              "        vertical-align: top;\n",
              "    }\n",
              "\n",
              "    .dataframe thead th {\n",
              "        text-align: right;\n",
              "    }\n",
              "</style>\n",
              "<table border=\"1\" class=\"dataframe\">\n",
              "  <thead>\n",
              "    <tr style=\"text-align: right;\">\n",
              "      <th></th>\n",
              "      <th>project_id</th>\n",
              "      <th>owner_id</th>\n",
              "      <th>user_id</th>\n",
              "      <th>Time_Create</th>\n",
              "      <th>Time_Meb0</th>\n",
              "      <th>Time_Meb1</th>\n",
              "      <th>Time_Cmt0</th>\n",
              "      <th>Time_Cmt1</th>\n",
              "      <th>project_language</th>\n",
              "      <th>Tech_lang</th>\n",
              "      <th>Project_Member</th>\n",
              "      <th>Project_Commit_Count</th>\n",
              "      <th>Project_Size</th>\n",
              "      <th>Open_Issues_Count</th>\n",
              "      <th>Forks</th>\n",
              "      <th>Watchers</th>\n",
              "      <th>Network_Count</th>\n",
              "      <th>Stargazers_Count</th>\n",
              "      <th>has_star_developer</th>\n",
              "      <th>Successful_Onboarding</th>\n",
              "    </tr>\n",
              "  </thead>\n",
              "  <tbody>\n",
              "    <tr>\n",
              "      <th>0</th>\n",
              "      <td>202</td>\n",
              "      <td>1653</td>\n",
              "      <td>1662</td>\n",
              "      <td>119</td>\n",
              "      <td>0</td>\n",
              "      <td>649796</td>\n",
              "      <td>20239</td>\n",
              "      <td>2896337</td>\n",
              "      <td>JavaScript</td>\n",
              "      <td>4</td>\n",
              "      <td>195</td>\n",
              "      <td>52227</td>\n",
              "      <td>999796.0</td>\n",
              "      <td>683.0</td>\n",
              "      <td>683.0</td>\n",
              "      <td>2331.0</td>\n",
              "      <td>2092.0</td>\n",
              "      <td>226.0</td>\n",
              "      <td>1</td>\n",
              "      <td>1</td>\n",
              "    </tr>\n",
              "    <tr>\n",
              "      <th>1</th>\n",
              "      <td>392</td>\n",
              "      <td>2997</td>\n",
              "      <td>138128</td>\n",
              "      <td>60</td>\n",
              "      <td>0</td>\n",
              "      <td>3316225</td>\n",
              "      <td>65</td>\n",
              "      <td>2097657</td>\n",
              "      <td>JavaScript</td>\n",
              "      <td>2</td>\n",
              "      <td>122</td>\n",
              "      <td>17900</td>\n",
              "      <td>92974.0</td>\n",
              "      <td>2791.0</td>\n",
              "      <td>2791.0</td>\n",
              "      <td>8180.0</td>\n",
              "      <td>33671.0</td>\n",
              "      <td>1602.0</td>\n",
              "      <td>1</td>\n",
              "      <td>0</td>\n",
              "    </tr>\n",
              "    <tr>\n",
              "      <th>2</th>\n",
              "      <td>392</td>\n",
              "      <td>2997</td>\n",
              "      <td>2028259</td>\n",
              "      <td>60</td>\n",
              "      <td>0</td>\n",
              "      <td>3316225</td>\n",
              "      <td>65</td>\n",
              "      <td>2097657</td>\n",
              "      <td>JavaScript</td>\n",
              "      <td>2</td>\n",
              "      <td>122</td>\n",
              "      <td>17900</td>\n",
              "      <td>92974.0</td>\n",
              "      <td>2791.0</td>\n",
              "      <td>2791.0</td>\n",
              "      <td>8180.0</td>\n",
              "      <td>33671.0</td>\n",
              "      <td>1602.0</td>\n",
              "      <td>1</td>\n",
              "      <td>1</td>\n",
              "    </tr>\n",
              "    <tr>\n",
              "      <th>3</th>\n",
              "      <td>540</td>\n",
              "      <td>3797</td>\n",
              "      <td>36361</td>\n",
              "      <td>120</td>\n",
              "      <td>0</td>\n",
              "      <td>2355387</td>\n",
              "      <td>6140</td>\n",
              "      <td>2095492</td>\n",
              "      <td>JavaScript</td>\n",
              "      <td>3</td>\n",
              "      <td>10</td>\n",
              "      <td>15531</td>\n",
              "      <td>74341.0</td>\n",
              "      <td>429.0</td>\n",
              "      <td>429.0</td>\n",
              "      <td>4272.0</td>\n",
              "      <td>22163.0</td>\n",
              "      <td>903.0</td>\n",
              "      <td>1</td>\n",
              "      <td>1</td>\n",
              "    </tr>\n",
              "    <tr>\n",
              "      <th>4</th>\n",
              "      <td>544</td>\n",
              "      <td>4233</td>\n",
              "      <td>4334</td>\n",
              "      <td>119</td>\n",
              "      <td>0</td>\n",
              "      <td>369290</td>\n",
              "      <td>1244705</td>\n",
              "      <td>2106930</td>\n",
              "      <td>JavaScript</td>\n",
              "      <td>7</td>\n",
              "      <td>16</td>\n",
              "      <td>6625</td>\n",
              "      <td>41122.0</td>\n",
              "      <td>111.0</td>\n",
              "      <td>111.0</td>\n",
              "      <td>308.0</td>\n",
              "      <td>2152.0</td>\n",
              "      <td>63.0</td>\n",
              "      <td>1</td>\n",
              "      <td>1</td>\n",
              "    </tr>\n",
              "  </tbody>\n",
              "</table>\n",
              "</div>\n",
              "      <button class=\"colab-df-convert\" onclick=\"convertToInteractive('df-5cd5f892-e203-4f6a-90c8-52d9b569bf43')\"\n",
              "              title=\"Convert this dataframe to an interactive table.\"\n",
              "              style=\"display:none;\">\n",
              "        \n",
              "  <svg xmlns=\"http://www.w3.org/2000/svg\" height=\"24px\"viewBox=\"0 0 24 24\"\n",
              "       width=\"24px\">\n",
              "    <path d=\"M0 0h24v24H0V0z\" fill=\"none\"/>\n",
              "    <path d=\"M18.56 5.44l.94 2.06.94-2.06 2.06-.94-2.06-.94-.94-2.06-.94 2.06-2.06.94zm-11 1L8.5 8.5l.94-2.06 2.06-.94-2.06-.94L8.5 2.5l-.94 2.06-2.06.94zm10 10l.94 2.06.94-2.06 2.06-.94-2.06-.94-.94-2.06-.94 2.06-2.06.94z\"/><path d=\"M17.41 7.96l-1.37-1.37c-.4-.4-.92-.59-1.43-.59-.52 0-1.04.2-1.43.59L10.3 9.45l-7.72 7.72c-.78.78-.78 2.05 0 2.83L4 21.41c.39.39.9.59 1.41.59.51 0 1.02-.2 1.41-.59l7.78-7.78 2.81-2.81c.8-.78.8-2.07 0-2.86zM5.41 20L4 18.59l7.72-7.72 1.47 1.35L5.41 20z\"/>\n",
              "  </svg>\n",
              "      </button>\n",
              "      \n",
              "  <style>\n",
              "    .colab-df-container {\n",
              "      display:flex;\n",
              "      flex-wrap:wrap;\n",
              "      gap: 12px;\n",
              "    }\n",
              "\n",
              "    .colab-df-convert {\n",
              "      background-color: #E8F0FE;\n",
              "      border: none;\n",
              "      border-radius: 50%;\n",
              "      cursor: pointer;\n",
              "      display: none;\n",
              "      fill: #1967D2;\n",
              "      height: 32px;\n",
              "      padding: 0 0 0 0;\n",
              "      width: 32px;\n",
              "    }\n",
              "\n",
              "    .colab-df-convert:hover {\n",
              "      background-color: #E2EBFA;\n",
              "      box-shadow: 0px 1px 2px rgba(60, 64, 67, 0.3), 0px 1px 3px 1px rgba(60, 64, 67, 0.15);\n",
              "      fill: #174EA6;\n",
              "    }\n",
              "\n",
              "    [theme=dark] .colab-df-convert {\n",
              "      background-color: #3B4455;\n",
              "      fill: #D2E3FC;\n",
              "    }\n",
              "\n",
              "    [theme=dark] .colab-df-convert:hover {\n",
              "      background-color: #434B5C;\n",
              "      box-shadow: 0px 1px 3px 1px rgba(0, 0, 0, 0.15);\n",
              "      filter: drop-shadow(0px 1px 2px rgba(0, 0, 0, 0.3));\n",
              "      fill: #FFFFFF;\n",
              "    }\n",
              "  </style>\n",
              "\n",
              "      <script>\n",
              "        const buttonEl =\n",
              "          document.querySelector('#df-5cd5f892-e203-4f6a-90c8-52d9b569bf43 button.colab-df-convert');\n",
              "        buttonEl.style.display =\n",
              "          google.colab.kernel.accessAllowed ? 'block' : 'none';\n",
              "\n",
              "        async function convertToInteractive(key) {\n",
              "          const element = document.querySelector('#df-5cd5f892-e203-4f6a-90c8-52d9b569bf43');\n",
              "          const dataTable =\n",
              "            await google.colab.kernel.invokeFunction('convertToInteractive',\n",
              "                                                     [key], {});\n",
              "          if (!dataTable) return;\n",
              "\n",
              "          const docLinkHtml = 'Like what you see? Visit the ' +\n",
              "            '<a target=\"_blank\" href=https://colab.research.google.com/notebooks/data_table.ipynb>data table notebook</a>'\n",
              "            + ' to learn more about interactive tables.';\n",
              "          element.innerHTML = '';\n",
              "          dataTable['output_type'] = 'display_data';\n",
              "          await google.colab.output.renderOutput(dataTable, element);\n",
              "          const docLink = document.createElement('div');\n",
              "          docLink.innerHTML = docLinkHtml;\n",
              "          element.appendChild(docLink);\n",
              "        }\n",
              "      </script>\n",
              "    </div>\n",
              "  </div>\n",
              "  "
            ]
          },
          "metadata": {},
          "execution_count": 6
        }
      ]
    },
    {
      "cell_type": "code",
      "source": [
        "# Dataset preprocessing\n",
        "#list of columns that used for training and testing\n",
        "column_name=list(df.iloc[:,np.r_[0,2,3,4,5,6,7,9,10,11,12,13,14,15,16,17,18,19]])\n",
        "\n",
        "print(\"Features and Targets:\",column_name)\n",
        "\n",
        "pro_data=df[column_name].to_numpy()\n",
        "\n",
        "X=pro_data[:,:16]\n",
        "y=pro_data[:,-1]\n",
        "\n",
        "'''X[X == 0] = 'nan'\n",
        "\n",
        "col_mean = np.nanmean(X, axis=0)\n",
        "inds = np.where(np.isnan(X))\n",
        "X[inds] = np.take(col_mean, inds[1])'''\n",
        "\n",
        "x_train,x_test,y_train,y_test=train_test_split(X,y,test_size=0.3,random_state=20)\n",
        "\n"
      ],
      "metadata": {
        "colab": {
          "base_uri": "https://localhost:8080/"
        },
        "id": "_at5kOriptKT",
        "outputId": "989b121f-271c-414d-bee3-284a9b97d847"
      },
      "execution_count": 7,
      "outputs": [
        {
          "output_type": "stream",
          "name": "stdout",
          "text": [
            "Features and Targets: ['project_id', 'user_id', 'Time_Create', 'Time_Meb0', 'Time_Meb1', 'Time_Cmt0', 'Time_Cmt1', 'Tech_lang', 'Project_Member', 'Project_Commit_Count', 'Project_Size', 'Open_Issues_Count', 'Forks', 'Watchers', 'Network_Count', 'Stargazers_Count', 'has_star_developer', 'Successful_Onboarding']\n"
          ]
        }
      ]
    },
    {
      "cell_type": "code",
      "source": [
        "#scaler = preprocessing.StandardScaler()\n",
        "scaler = MinMaxScaler()\n",
        "x_train = scaler.fit_transform(x_train)\n",
        "x_test = scaler.transform(x_test)"
      ],
      "metadata": {
        "id": "PodKsfiG06ij"
      },
      "execution_count": 8,
      "outputs": []
    },
    {
      "cell_type": "code",
      "source": [
        "x_train[0]"
      ],
      "metadata": {
        "colab": {
          "base_uri": "https://localhost:8080/"
        },
        "id": "SlrLpRKQkJVm",
        "outputId": "c4304737-b0bc-47cc-edc1-e80a668e679f"
      },
      "execution_count": 9,
      "outputs": [
        {
          "output_type": "execute_result",
          "data": {
            "text/plain": [
              "array([1.23037466e-01, 1.22456965e-03, 1.14186622e-05, 0.00000000e+00,\n",
              "       0.00000000e+00, 1.49105986e-03, 2.13310952e-01, 1.53846154e-01,\n",
              "       2.54110613e-02, 6.10076096e-04, 3.94759854e-05, 7.60745531e-04,\n",
              "       7.60745531e-04, 1.73334748e-03, 4.98866610e-04, 3.30695642e-03])"
            ]
          },
          "metadata": {},
          "execution_count": 9
        }
      ]
    },
    {
      "cell_type": "code",
      "source": [
        "def arctan(self, x, derivative=False):\n",
        "        if (derivative == True):\n",
        "            return (tf.math.cos(x) ** 2)\n",
        "        return tf.math.atan(x)\n",
        "\n",
        "from keras import backend as K\n",
        "\n",
        "\n",
        "def recall_m(y_true, y_pred):\n",
        "    true_positives = K.sum(K.round(K.clip(y_true * y_pred, 0, 1)))\n",
        "    possible_positives = K.sum(K.round(K.clip(y_true, 0, 1)))\n",
        "    recall = true_positives / (possible_positives + K.epsilon())\n",
        "    return recall\n",
        "\n",
        "def precision_m(y_true, y_pred):\n",
        "    true_positives = K.sum(K.round(K.clip(y_true * y_pred, 0, 1)))\n",
        "    predicted_positives = K.sum(K.round(K.clip(y_pred, 0, 1)))\n",
        "    precision = true_positives / (predicted_positives + K.epsilon())\n",
        "    return precision\n",
        "\n",
        "def f1_m(y_true, y_pred):\n",
        "    precision = precision_m(y_true, y_pred)\n",
        "    recall = recall_m(y_true, y_pred)\n",
        "    return 2*((precision*recall)/(precision+recall+K.epsilon()))\n",
        "\n",
        "def mAP(y_true,y_pred):\n",
        "\tnum_classes = y_true.shape[1]\n",
        "\taverage_precisions = []\n",
        "\trelevant = K.sum(K.round(K.clip(y_true, 0, 1)))\n",
        "\ttp_whole = K.round(K.clip(y_true * y_pred, 0, 1))\n",
        "\tfor index in range(num_classes):\n",
        "\t\ttemp = K.sum(tp_whole[:,:index+1],axis=1)\n",
        "\t\taverage_precisions.append(temp * (1/(index + 1)))\n",
        "\tAP = K.sum(average_precisions) / relevant\n",
        "\tmAP = K.mean(AP,axis=0)\n",
        "\treturn mAP\n",
        "\n",
        "def weighted_binary_crossentropy(self, y_true, y_pred):\n",
        "    logloss = -(y_true * K.log(y_pred) * self.weights[0] + \\\n",
        "               (1 - y_true) * K.log(1 - y_pred) * self.weights[1])\n",
        "\n",
        "    return K.mean(logloss, axis=-1)\n"
      ],
      "metadata": {
        "id": "WQsLZgS0eN0s"
      },
      "execution_count": 10,
      "outputs": []
    },
    {
      "cell_type": "code",
      "source": [
        "def fit_model(trainX, trainy, testX, testy, n_batch):\n",
        "\t# define model\n",
        "  model = Sequential()\n",
        "  model.add(Dense(5, activation='relu', kernel_initializer='random_normal',bias_initializer='zeros'))\n",
        "  model.add(Dense(5, activation='relu'))\n",
        "  #model.add(Dense(5,input_dim=5, activation='sigmoid')\n",
        "  model.add(Dense(1, activation='sigmoid'))\n",
        " \n",
        "\n",
        "  \n",
        "\n",
        "\t# compile model\n",
        "  \n",
        "  opt = SGD(learning_rate=0.01)\n",
        "  #model.compile(loss=tfr.keras.losses.ListMLELoss(lambda_weight=1.0), optimizer=opt, metrics=['accuracy',precision_m,recall_m,f1_m])\n",
        "  model.compile(loss=tf.keras.losses.BinaryCrossentropy(), optimizer=opt, metrics=['accuracy',precision_m,recall_m,f1_m, tfr.keras.metrics.MeanAveragePrecisionMetric(name=None, topn=None, dtype=None, ragged=False)])\n",
        "  #model.compile(loss=tf.keras.losses.CategoricalCrossentropy(), optimizer=opt, metrics=['accuracy',precision_m,recall_m,f1_m])\n",
        "  # fit model\n",
        "  history = model.fit(trainX, trainy, validation_data=(testX, testy), epochs=10, verbose=0, batch_size=n_batch)\n",
        "  #history = model.fit(trainX, trainy, validation_data=(testX, testy), epochs=10, verbose=0)\n",
        "\n",
        "  \n",
        "  loss, accuracy, precision, recall,f1_score,map = model.evaluate(testX, testy, verbose=0)\n",
        "  \n",
        "  print('\\n')\n",
        "  print('prediction score for NNLRank at: ',n_batch)\n",
        "  print('accuracy:',accuracy *100, 'f1_score:',f1_score)\n",
        "  print('precision:',precision, 'recall:',recall)\n",
        "  print('Loss:',loss,'MAP:',map)\n",
        "  #print('report:',report)\n",
        "  print('\\n')\n",
        "\n",
        "\t# plot learning curves\n",
        "  # plot loss history\n",
        "  \n",
        "  plt.plot(history.history['accuracy'], label='train')\n",
        "  plt.plot(history.history['val_accuracy'], label='test')\n",
        "  plt.title('batch='+str(n_batch), pad=-40)\n",
        "  \n",
        "  # show learning curves\n",
        "  plt.show()\n"
      ],
      "metadata": {
        "id": "MYbAS7sztSkq"
      },
      "execution_count": 11,
      "outputs": []
    },
    {
      "cell_type": "code",
      "source": [
        "# create learning curves for different batch sizes\n",
        "\n",
        "batch_sizes = [4,8,16,32]\n",
        "for i in range(len(batch_sizes)):\n",
        "\t# determine the plot number\n",
        "\tplt.figure(figsize=(25, 25))\n",
        "\tplot_no = 420 + (i+1)\n",
        "\tplt.subplot(plot_no)\n",
        " \n",
        "\t# fit model and plot learning curves for a batch size\n",
        "\tfit_model(x_train,y_train,x_test,y_test, batch_sizes[i])\n",
        "  \n",
        "# show learning curves\n",
        "#plt.show()"
      ],
      "metadata": {
        "colab": {
          "base_uri": "https://localhost:8080/",
          "height": 1000
        },
        "id": "Zl6NrWC30SgQ",
        "outputId": "2d28e870-f69e-41f3-ec8b-6e251baf077b"
      },
      "execution_count": null,
      "outputs": [
        {
          "output_type": "stream",
          "name": "stdout",
          "text": [
            "\n",
            "\n",
            "prediction score for NNLRank at:  4\n",
            "accuracy: 0.5995262861251831 f1_score: 0.6501407623291016\n",
            "precision: 0.6276732683181763 recall: 0.6889462471008301\n",
            "Loss: 0.6605216860771179 MAP: 0.556608259677887\n",
            "\n",
            "\n"
          ]
        },
        {
          "output_type": "display_data",
          "data": {
            "text/plain": [
              "<Figure size 1800x1800 with 1 Axes>"
            ],
            "image/png": "[encoded data removed]"
          },
          "metadata": {
            "needs_background": "light"
          }
        },
        {
          "output_type": "stream",
          "name": "stdout",
          "text": [
            "\n",
            "\n",
            "prediction score for NNLRank at:  8\n",
            "accuracy: 0.5975366830825806 f1_score: 0.6937220692634583\n",
            "precision: 0.5985090136528015 recall: 0.8422623872756958\n",
            "Loss: 0.6607962250709534 MAP: 0.556608259677887\n",
            "\n",
            "\n"
          ]
        },
        {
          "output_type": "display_data",
          "data": {
            "text/plain": [
              "<Figure size 1800x1800 with 1 Axes>"
            ],
            "image/png": "[encoded data removed]"
          },
          "metadata": {
            "needs_background": "light"
          }
        },
        {
          "output_type": "stream",
          "name": "stdout",
          "text": [
            "\n",
            "\n",
            "prediction score for NNLRank at:  16\n",
            "accuracy: 0.5967787504196167 f1_score: 0.684066653251648\n",
            "precision: 0.6025946140289307 recall: 0.806575357913971\n",
            "Loss: 0.6609473824501038 MAP: 0.556608259677887\n",
            "\n",
            "\n"
          ]
        },
        {
          "output_type": "display_data",
          "data": {
            "text/plain": [
              "<Figure size 1800x1800 with 1 Axes>"
            ],
            "image/png": "[encoded data removed]"
          },
          "metadata": {
            "needs_background": "light"
          }
        },
        {
          "output_type": "stream",
          "name": "stdout",
          "text": [
            "\n",
            "\n",
            "prediction score for NNLRank at:  32\n",
            "accuracy: 0.5701563358306885 f1_score: 0.7114209532737732\n",
            "precision: 0.5660529732704163 recall: 0.9751323461532593\n",
            "Loss: 0.6776884198188782 MAP: 0.556608259677887\n",
            "\n",
            "\n"
          ]
        },
        {
          "output_type": "display_data",
          "data": {
            "text/plain": [
              "<Figure size 1800x1800 with 1 Axes>"
            ],
            "image/png": "[encoded data removed]"
          },
          "metadata": {
            "needs_background": "light"
          }
        }
      ]
    }
  ]
}